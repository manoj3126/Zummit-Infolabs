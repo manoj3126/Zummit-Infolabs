{
 "cells": [
  {
   "cell_type": "code",
   "execution_count": 1,
   "id": "372dd931-336f-4dc8-aff6-924273a60554",
   "metadata": {},
   "outputs": [
    {
     "name": "stdout",
     "output_type": "stream",
     "text": [
      "Adjusting for ambient noise...\n",
      "Recording...\n",
      "Processing...\n",
      "Text recognized: hello\n",
      "Text saved to output.txt\n"
     ]
    }
   ],
   "source": [
    "import speech_recognition as sr\n",
    "\n",
    "def record_and_convert_to_text(filename):\n",
    "    # Initialize recognizer\n",
    "    recognizer = sr.Recognizer()\n",
    "\n",
    "    # Use the default microphone as the source\n",
    "    with sr.Microphone() as source:\n",
    "        print(\"Adjusting for ambient noise...\")\n",
    "        recognizer.adjust_for_ambient_noise(source)\n",
    "        print(\"Recording...\")\n",
    "        # Record audio\n",
    "        audio = recognizer.listen(source)\n",
    "        print(\"Processing...\")\n",
    "\n",
    "    try:\n",
    "        # Convert speech to text\n",
    "        text = recognizer.recognize_google(audio)\n",
    "        print(\"Text recognized: \" + text)\n",
    "        \n",
    "        # Save text to file\n",
    "        with open(filename, 'w') as file:\n",
    "            file.write(text)\n",
    "        print(f\"Text saved to {filename}\")\n",
    "\n",
    "    except sr.UnknownValueError:\n",
    "        print(\"Google Speech Recognition could not understand the audio.\")\n",
    "    except sr.RequestError as e:\n",
    "        print(f\"Could not request results from Google Speech Recognition service; {e}\")\n",
    "\n",
    "# Call the function\n",
    "record_and_convert_to_text(\"output.txt\")"
   ]
  },
  {
   "cell_type": "code",
   "execution_count": null,
   "id": "9a1eeafc-5969-459a-8871-876ffec83c5f",
   "metadata": {},
   "outputs": [],
   "source": []
  }
 ],
 "metadata": {
  "kernelspec": {
   "display_name": "Python 3 (ipykernel)",
   "language": "python",
   "name": "python3"
  },
  "language_info": {
   "codemirror_mode": {
    "name": "ipython",
    "version": 3
   },
   "file_extension": ".py",
   "mimetype": "text/x-python",
   "name": "python",
   "nbconvert_exporter": "python",
   "pygments_lexer": "ipython3",
   "version": "3.12.4"
  }
 },
 "nbformat": 4,
 "nbformat_minor": 5
}
